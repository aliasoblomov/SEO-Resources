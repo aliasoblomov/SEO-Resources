{
  "nbformat": 4,
  "nbformat_minor": 0,
  "metadata": {
    "colab": {
      "provenance": [],
      "include_colab_link": true
    },
    "kernelspec": {
      "name": "python3",
      "display_name": "Python 3"
    },
    "language_info": {
      "name": "python"
    }
  },
  "cells": [
    {
      "cell_type": "markdown",
      "metadata": {
        "id": "view-in-github",
        "colab_type": "text"
      },
      "source": [
        "<a href=\"https://colab.research.google.com/github/aliasoblomov/SEO-Resources/blob/main/Cos_similarity.ipynb\" target=\"_parent\"><img src=\"https://colab.research.google.com/assets/colab-badge.svg\" alt=\"Open In Colab\"/></a>"
      ]
    },
    {
      "cell_type": "code",
      "execution_count": null,
      "metadata": {
        "id": "gMaTWMc2lV0u"
      },
      "outputs": [],
      "source": [
        "# Import necessary libraries\n",
        "import pandas as pd\n",
        "from sklearn.feature_extraction.text import TfidfVectorizer\n",
        "from sklearn.metrics.pairwise import cosine_similarity\n",
        "\n",
        "df = pd.read_csv('content.csv')\n",
        "\n",
        "# Display the first few rows of the DataFrame\n",
        "df.head()\n",
        "\n",
        "# Function to find internal link opportunities\n",
        "def find_internal_link_opportunities(df):\n",
        "    contents = df['content'].tolist()\n",
        "    vectorizer = TfidfVectorizer().fit_transform(contents)\n",
        "    vectors = vectorizer.toarray()\n",
        "    csim = cosine_similarity(vectors)\n",
        "    return csim\n",
        "\n",
        "# Assuming the 'Content' column contains the text content of the pages\n",
        "csim = find_internal_link_opportunities(df)\n",
        "\n",
        "# Function to display internal link opportunities\n",
        "def display_link_opportunities(df, csim, threshold=0.5):\n",
        "    results = []\n",
        "\n",
        "    for idx, row in df.iterrows():\n",
        "        similar_indices = [i for i, score in enumerate(csim[idx]) if score > threshold and i != idx]\n",
        "\n",
        "        if similar_indices:\n",
        "            for i in similar_indices:\n",
        "                results.append({\n",
        "                    'url': row['Address'],\n",
        "                    'sim_url': df.iloc[i]['Address'],\n",
        "                    'sim_ratio': f\"{csim[idx][i]:.2f}\"\n",
        "                })\n",
        "\n",
        "    # Create a DataFrame to display results in a table format\n",
        "    result_df = pd.DataFrame(results, columns=['url', 'sim_url', 'sim_ratio'])\n",
        "\n",
        "    return result_df\n",
        "# Display internal link opportunities with a threshold for similarity\n",
        "final_res = display_link_opportunities(df, csim, threshold=0.2)\n"
      ]
    },
    {
      "cell_type": "code",
      "source": [
        "from google.colab import files\n",
        "\n",
        "# Save DataFrame to a CSV file\n",
        "final_res.to_csv('results.csv', index=False)\n",
        "\n",
        "# Download the CSV file\n",
        "files.download('results.csv')"
      ],
      "metadata": {
        "colab": {
          "base_uri": "https://localhost:8080/",
          "height": 17
        },
        "id": "eDuNExfKADP1",
        "outputId": "f0ab0246-f063-4605-e8b0-a22623b19d4d"
      },
      "execution_count": null,
      "outputs": [
        {
          "output_type": "display_data",
          "data": {
            "text/plain": [
              "<IPython.core.display.Javascript object>"
            ],
            "application/javascript": [
              "\n",
              "    async function download(id, filename, size) {\n",
              "      if (!google.colab.kernel.accessAllowed) {\n",
              "        return;\n",
              "      }\n",
              "      const div = document.createElement('div');\n",
              "      const label = document.createElement('label');\n",
              "      label.textContent = `Downloading \"${filename}\": `;\n",
              "      div.appendChild(label);\n",
              "      const progress = document.createElement('progress');\n",
              "      progress.max = size;\n",
              "      div.appendChild(progress);\n",
              "      document.body.appendChild(div);\n",
              "\n",
              "      const buffers = [];\n",
              "      let downloaded = 0;\n",
              "\n",
              "      const channel = await google.colab.kernel.comms.open(id);\n",
              "      // Send a message to notify the kernel that we're ready.\n",
              "      channel.send({})\n",
              "\n",
              "      for await (const message of channel.messages) {\n",
              "        // Send a message to notify the kernel that we're ready.\n",
              "        channel.send({})\n",
              "        if (message.buffers) {\n",
              "          for (const buffer of message.buffers) {\n",
              "            buffers.push(buffer);\n",
              "            downloaded += buffer.byteLength;\n",
              "            progress.value = downloaded;\n",
              "          }\n",
              "        }\n",
              "      }\n",
              "      const blob = new Blob(buffers, {type: 'application/binary'});\n",
              "      const a = document.createElement('a');\n",
              "      a.href = window.URL.createObjectURL(blob);\n",
              "      a.download = filename;\n",
              "      div.appendChild(a);\n",
              "      a.click();\n",
              "      div.remove();\n",
              "    }\n",
              "  "
            ]
          },
          "metadata": {}
        },
        {
          "output_type": "display_data",
          "data": {
            "text/plain": [
              "<IPython.core.display.Javascript object>"
            ],
            "application/javascript": [
              "download(\"download_a87e99eb-049a-449d-a634-780499414f2a\", \"results.csv\", 1646966)"
            ]
          },
          "metadata": {}
        }
      ]
    },
    {
      "cell_type": "code",
      "source": [],
      "metadata": {
        "id": "Ad7c1sM88jTb"
      },
      "execution_count": null,
      "outputs": []
    }
  ]
}